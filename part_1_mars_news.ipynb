{
 "cells": [
  {
   "attachments": {},
   "cell_type": "markdown",
   "metadata": {},
   "source": [
    "# Module 11 Challenge\n",
    "## Deliverable 1: Scrape Titles and Preview Text from Mars News"
   ]
  },
  {
   "cell_type": "code",
   "execution_count": 1,
   "metadata": {},
   "outputs": [],
   "source": [
    "'''# Import Splinter and BeautifulSoup\n",
    "from splinter import Browser\n",
    "from bs4 import BeautifulSoup\n",
    "from pprint import pprint\n",
    "import requests\n",
    "import json'''\n",
    "\n",
    "# Import required libraries\n",
    "from splinter import Browser\n",
    "from bs4 import BeautifulSoup\n",
    "from selenium import webdriver\n",
    "from selenium.webdriver.chrome.service import Service\n",
    "from webdriver_manager.chrome import ChromeDriverManager\n",
    "\n",
    "from pprint import pprint\n",
    "import requests\n",
    "import json"
   ]
  },
  {
   "cell_type": "code",
   "execution_count": 2,
   "metadata": {
    "scrolled": true
   },
   "outputs": [],
   "source": [
    "#browser = Browser('chrome')\n",
    "service = Service(ChromeDriverManager().install())\n",
    "browser = Browser('chrome', service=service)"
   ]
  },
  {
   "attachments": {},
   "cell_type": "markdown",
   "metadata": {},
   "source": [
    "### Step 1: Visit the Website\n",
    "\n",
    "1. Use automated browsing to visit the [Mars news site](https://static.bc-edx.com/data/web/mars_news/index.html). Inspect the page to identify which elements to scrape.\n",
    "\n",
    "      > **Hint** To identify which elements to scrape, you might want to inspect the page by using Chrome DevTools."
   ]
  },
  {
   "cell_type": "code",
   "execution_count": 3,
   "metadata": {},
   "outputs": [],
   "source": [
    "# Visit the Mars news site\n",
    "url = 'https://static.bc-edx.com/data/web/mars_news/index.html'\n",
    "browser.visit(url)"
   ]
  },
  {
   "cell_type": "code",
   "execution_count": 4,
   "metadata": {},
   "outputs": [
    {
     "name": "stdout",
     "output_type": "stream",
     "text": [
      "Found\n"
     ]
    }
   ],
   "source": [
    "# Send a GET request to fetch the webpage content\n",
    "response = requests.get(url)\n",
    "\n",
    "response.encoding = 'utf-8'\n",
    "\n",
    "# Checking if the request was successful\n",
    "if response.status_code == 200:\n",
    "    html_content = response.text\n",
    "    print(\"Found\")\n",
    "else:\n",
    "    print(f\"Failed to retrieve content. Status code: {response.status_code}\")"
   ]
  },
  {
   "attachments": {},
   "cell_type": "markdown",
   "metadata": {},
   "source": [
    "### Step 2: Scrape the Website\n",
    "\n",
    "Create a Beautiful Soup object and use it to extract text elements from the website."
   ]
  },
  {
   "cell_type": "code",
   "execution_count": 5,
   "metadata": {},
   "outputs": [],
   "source": [
    "# Create a Beautiful Soup object\n",
    "soup = BeautifulSoup(html_content, 'html.parser')"
   ]
  },
  {
   "cell_type": "code",
   "execution_count": 6,
   "metadata": {},
   "outputs": [
    {
     "name": "stdout",
     "output_type": "stream",
     "text": [
      "S Planet Science\n",
      "Exploration Program\n",
      "\n",
      "\n",
      "\n",
      "\n",
      "\n",
      "\n",
      "\n",
      "The Red Planet\n",
      "\n",
      "\n",
      "The Program\n",
      "\n",
      "\n",
      "News & Events\n",
      "\n",
      "\n",
      "Multimedia\n",
      "\n",
      "\n",
      "Missions\n",
      "\n",
      "\n",
      "More\n",
      "\n",
      "\n",
      "\n",
      "\n",
      "\n",
      "\n",
      "\n",
      "\n",
      "\n",
      "\n",
      "News\n",
      "\n",
      "\n",
      "\n",
      "\n",
      "\n",
      "\n",
      "\n",
      "\n",
      "Latest\n",
      "\n",
      "\n",
      "\n",
      "\n",
      "All Categories\n",
      "\n",
      "\n",
      "\n",
      "\n",
      "\n",
      "\n",
      "\n",
      "\n",
      "\n",
      "\n",
      "\n",
      "\n",
      "\n",
      "\n",
      "\n",
      "\n",
      "\n",
      "\n",
      "\n",
      "\n",
      "November 9, 2022\n",
      "NASA's MAVEN Observes Martian Light Show Caused by Major Solar Storm\n",
      "For the first time in its eight years orbiting Mars, NASA’s MAVEN mission witnessed two different types of ultraviolet aurorae simultaneously, the result of solar storms that \n"
     ]
    }
   ],
   "source": [
    "# Extract all the text elements\n",
    "text_content = soup.get_text()\n",
    "\n",
    "# Prints the characters 50 -500 to verify\n",
    "print(text_content[50:500])"
   ]
  },
  {
   "attachments": {},
   "cell_type": "markdown",
   "metadata": {},
   "source": [
    "### Step 3: Store the Results\n",
    "\n",
    "Extract the titles and preview text of the news articles that you scraped. Store the scraping results in Python data structures as follows:\n",
    "\n",
    "* Store each title-and-preview pair in a Python dictionary. And, give each dictionary two keys: `title` and `preview`. An example is the following:\n",
    "\n",
    "  ```python\n",
    "  {'title': \"NASA's MAVEN Observes Martian Light Show Caused by Major Solar Storm\", \n",
    "   'preview': \"For the first time in its eight years orbiting Mars, NASA’s MAVEN mission witnessed two different types of ultraviolet aurorae simultaneously, the result of solar storms that began on Aug. 27.\"\n",
    "  }\n",
    "  ```\n",
    "\n",
    "* Store all the dictionaries in a Python list.\n",
    "\n",
    "* Print the list in your notebook."
   ]
  },
  {
   "cell_type": "code",
   "execution_count": 7,
   "metadata": {},
   "outputs": [],
   "source": [
    "# Create an empty list to store the dictionaries\n",
    "articles_list = []\n",
    "\n",
    "# Find all articles (assuming articles are stored in specific HTML tags or classes)\n",
    "articles = soup.find_all('div', class_='list_text')"
   ]
  },
  {
   "cell_type": "code",
   "execution_count": 8,
   "metadata": {},
   "outputs": [],
   "source": [
    "# Loop through the text elements\n",
    "for article in articles:\n",
    "    # Extract the title and preview text from the elements\n",
    "    title = article.find('div', class_='content_title').get_text().strip()\n",
    "    preview = article.find('div', class_='article_teaser_body').get_text().strip()\n",
    "\n",
    "    text = preview.replace('\\u201c', '\"').replace('\\u2019s', '\"').replace('\\u2019', \"'\")\n",
    "\n",
    "    \n",
    "    # Store each title and preview pair in a dictionary\n",
    "    article_dict = {'title': title, 'preview': preview}\n",
    "\n",
    "    # Add the dictionary to the list\n",
    "    articles_list.append(article_dict)"
   ]
  },
  {
   "cell_type": "code",
   "execution_count": 9,
   "metadata": {},
   "outputs": [
    {
     "name": "stdout",
     "output_type": "stream",
     "text": [
      "[\n",
      " {\n",
      "  \"title\": \"NASA's MAVEN Observes Martian Light Show Caused by Major Solar Storm\",\n",
      "  \"preview\": \"For the first time in its eight years orbiting Mars, NASA\\u2019s MAVEN mission witnessed two different types of ultraviolet aurorae simultaneously, the result of solar storms that began on Aug. 27.\"\n",
      " },\n",
      " {\n",
      "  \"title\": \"NASA Prepares to Say 'Farewell' to InSight Spacecraft\",\n",
      "  \"preview\": \"A closer look at what goes into wrapping up the mission as the spacecraft\\u2019s power supply continues to dwindle.\"\n",
      " },\n",
      " {\n",
      "  \"title\": \"NASA and ESA Agree on Next Steps to Return Mars Samples to Earth\",\n",
      "  \"preview\": \"The agency\\u2019s Perseverance rover will establish the first sample depot on Mars.\"\n",
      " },\n",
      " {\n",
      "  \"title\": \"NASA's InSight Lander Detects Stunning Meteoroid Impact on Mars\",\n",
      "  \"preview\": \"The agency\\u2019s lander felt the ground shake during the impact while cameras aboard the Mars Reconnaissance Orbiter spotted the yawning new crater from space.\"\n",
      " },\n",
      " {\n",
      "  \"title\": \"NASA To Host Briefing on InSight, Mars Reconnaissance Orbiter Findings\",\n",
      "  \"preview\": \"Scientists from two Mars missions will discuss how they combined images and data for a major finding on the Red Planet.\"\n",
      " },\n",
      " {\n",
      "  \"title\": \"Why NASA Is Trying To Crash Land on Mars\",\n",
      "  \"preview\": \"Like a car\\u2019s crumple zone, the experimental SHIELD lander is designed to absorb a hard impact.\"\n",
      " },\n",
      " {\n",
      "  \"title\": \"Curiosity Mars Rover Reaches Long-Awaited Salty Region\",\n",
      "  \"preview\": \"After years of climbing, the Mars rover has arrived at a special region believed to have formed as Mars\\u2019 climate was drying.\"\n",
      " },\n",
      " {\n",
      "  \"title\": \"Mars Mission Shields Up for Tests\",\n",
      "  \"preview\": \"Protecting Mars Sample Return spacecraft from micrometeorites requires high-caliber work.\"\n",
      " },\n",
      " {\n",
      "  \"title\": \"NASA's InSight Waits Out Dust Storm\",\n",
      "  \"preview\": \"InSight\\u2019s team is taking steps to help the solar-powered lander continue operating for as long as possible.\"\n",
      " },\n",
      " {\n",
      "  \"title\": \"NASA's InSight 'Hears' Its First Meteoroid Impacts on Mars\",\n",
      "  \"preview\": \"The Mars lander\\u2019s seismometer has picked up vibrations from four separate impacts in the past two years.\"\n",
      " },\n",
      " {\n",
      "  \"title\": \"NASA's Perseverance Rover Investigates Geologically Rich Mars Terrain\",\n",
      "  \"preview\": \"The latest findings provide greater detail on a region of the Red Planet that has a watery past and is yielding promising samples for the NASA-ESA Mars Sample Return campaign.\"\n",
      " },\n",
      " {\n",
      "  \"title\": \"NASA to Host Briefing on Perseverance Mars Rover Mission Operations\",\n",
      "  \"preview\": \"Members of the mission will discuss the rover\\u2019s activities as it gathers samples in an ancient river delta.\"\n",
      " },\n",
      " {\n",
      "  \"title\": \"NASA's Perseverance Makes New Discoveries in Mars' Jezero Crater\",\n",
      "  \"preview\": \"The rover found that Jezero Crater\\u2019s floor is made up of volcanic rocks that have interacted with water.\"\n",
      " },\n",
      " {\n",
      "  \"title\": \"10 Years Since Landing, NASA's Curiosity Mars Rover Still Has Drive\",\n",
      "  \"preview\": \"Despite signs of wear, the intrepid spacecraft is about to start an exciting new chapter of its mission as it climbs a Martian mountain.\"\n",
      " },\n",
      " {\n",
      "  \"title\": \"SAM's Top 5 Discoveries Aboard NASA's Curiosity Rover at Mars\",\n",
      "  \"preview\": \"\\u201cSelfie\\u201d of the Curiosity rover with inset showing the SAM instrument prior to installation on the rover.\"\n",
      " }\n",
      "]\n"
     ]
    }
   ],
   "source": [
    "# Print the list to confirm success\n",
    "#print(articles_list)\n",
    "#pprint(articles_list, width=100)\n",
    "print(json.dumps(articles_list, indent=True))\n",
    "\n"
   ]
  },
  {
   "cell_type": "code",
   "execution_count": 10,
   "metadata": {},
   "outputs": [],
   "source": [
    "browser.quit()"
   ]
  },
  {
   "cell_type": "code",
   "execution_count": null,
   "metadata": {},
   "outputs": [],
   "source": []
  }
 ],
 "metadata": {
  "kernelspec": {
   "display_name": "Python 3 (ipykernel)",
   "language": "python",
   "name": "python3"
  },
  "language_info": {
   "codemirror_mode": {
    "name": "ipython",
    "version": 3
   },
   "file_extension": ".py",
   "mimetype": "text/x-python",
   "name": "python",
   "nbconvert_exporter": "python",
   "pygments_lexer": "ipython3",
   "version": "3.10.14"
  },
  "vscode": {
   "interpreter": {
    "hash": "31f2aee4e71d21fbe5cf8b01ff0e069b9275f58929596ceb00d14d90e3e16cd6"
   }
  }
 },
 "nbformat": 4,
 "nbformat_minor": 4
}
